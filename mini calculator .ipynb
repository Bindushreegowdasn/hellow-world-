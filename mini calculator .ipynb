{
 "cells": [
  {
   "cell_type": "code",
   "execution_count": 1,
   "metadata": {},
   "outputs": [],
   "source": [
    "import ipywidgets as widgets\n",
    "from IPython.display import display\n"
   ]
  },
  {
   "cell_type": "code",
   "execution_count": 2,
   "metadata": {},
   "outputs": [],
   "source": [
    "num1 = widgets.FloatText(description=\"Num 1:\")\n",
    "num2 = widgets.FloatText(description=\"Num 2:\")\n",
    "operation = widgets.Dropdown(\n",
    "    options=['Add', 'Subtract', 'Multiply', 'Divide'],\n",
    "    description=\"Operation:\"\n",
    ")\n",
    "calculate_button = widgets.Button(description=\"Calculate\")\n",
    "output = widgets.Output()\n"
   ]
  },
  {
   "cell_type": "code",
   "execution_count": 3,
   "metadata": {},
   "outputs": [],
   "source": [
    "def calculate(change):\n",
    "    with output:\n",
    "        output.clear_output()  # Clear previous output\n",
    "        n1 = num1.value\n",
    "        n2 = num2.value\n",
    "        op = operation.value\n",
    "        \n",
    "        if op == 'Add':\n",
    "            result = n1 + n2\n",
    "        elif op == 'Subtract':\n",
    "            result = n1 - n2\n",
    "        elif op == 'Multiply':\n",
    "            result = n1 * n2\n",
    "        elif op == 'Divide':\n",
    "            if n2 != 0:\n",
    "                result = n1 / n2\n",
    "            else:\n",
    "                result = \"Error! Division by zero.\"\n",
    "        \n",
    "        print(f\"Result: {result}\")\n"
   ]
  },
  {
   "cell_type": "code",
   "execution_count": 4,
   "metadata": {},
   "outputs": [],
   "source": [
    "calculate_button.on_click(calculate)\n"
   ]
  },
  {
   "cell_type": "code",
   "execution_count": 5,
   "metadata": {},
   "outputs": [
    {
     "data": {
      "application/vnd.jupyter.widget-view+json": {
       "model_id": "63a6df8a673c4670b6ef03ed779b00f3",
       "version_major": 2,
       "version_minor": 0
      },
      "text/plain": [
       "FloatText(value=0.0, description='Num 1:')"
      ]
     },
     "metadata": {},
     "output_type": "display_data"
    },
    {
     "data": {
      "application/vnd.jupyter.widget-view+json": {
       "model_id": "c40d2c3904dd447194ed23972859e3ec",
       "version_major": 2,
       "version_minor": 0
      },
      "text/plain": [
       "FloatText(value=0.0, description='Num 2:')"
      ]
     },
     "metadata": {},
     "output_type": "display_data"
    },
    {
     "data": {
      "application/vnd.jupyter.widget-view+json": {
       "model_id": "a470a680906e4acd828d959ee665ae04",
       "version_major": 2,
       "version_minor": 0
      },
      "text/plain": [
       "Dropdown(description='Operation:', options=('Add', 'Subtract', 'Multiply', 'Divide'), value='Add')"
      ]
     },
     "metadata": {},
     "output_type": "display_data"
    },
    {
     "data": {
      "application/vnd.jupyter.widget-view+json": {
       "model_id": "9c66d25240e04d47ab85d1380de6360b",
       "version_major": 2,
       "version_minor": 0
      },
      "text/plain": [
       "Button(description='Calculate', style=ButtonStyle())"
      ]
     },
     "metadata": {},
     "output_type": "display_data"
    },
    {
     "data": {
      "application/vnd.jupyter.widget-view+json": {
       "model_id": "2d3db1d3330f426899be7737356a61fe",
       "version_major": 2,
       "version_minor": 0
      },
      "text/plain": [
       "Output()"
      ]
     },
     "metadata": {},
     "output_type": "display_data"
    }
   ],
   "source": [
    "display(num1, num2, operation, calculate_button, output)\n"
   ]
  },
  {
   "cell_type": "code",
   "execution_count": null,
   "metadata": {},
   "outputs": [],
   "source": []
  }
 ],
 "metadata": {
  "kernelspec": {
   "display_name": "Python 3",
   "language": "python",
   "name": "python3"
  },
  "language_info": {
   "codemirror_mode": {
    "name": "ipython",
    "version": 3
   },
   "file_extension": ".py",
   "mimetype": "text/x-python",
   "name": "python",
   "nbconvert_exporter": "python",
   "pygments_lexer": "ipython3",
   "version": "3.8.5"
  }
 },
 "nbformat": 4,
 "nbformat_minor": 4
}
